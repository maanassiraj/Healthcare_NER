{
  "nbformat": 4,
  "nbformat_minor": 0,
  "metadata": {
    "colab": {
      "name": "NER_Healthcare.ipynb",
      "provenance": [],
      "collapsed_sections": [],
      "include_colab_link": true
    },
    "kernelspec": {
      "name": "python3",
      "display_name": "Python 3"
    },
    "language_info": {
      "name": "python"
    }
  },
  "cells": [
    {
      "cell_type": "markdown",
      "metadata": {
        "id": "view-in-github",
        "colab_type": "text"
      },
      "source": [
        "<a href=\"https://colab.research.google.com/github/maanassiraj/Healthcare_NER/blob/main/NER_Healthcare.ipynb\" target=\"_parent\"><img src=\"https://colab.research.google.com/assets/colab-badge.svg\" alt=\"Open In Colab\"/></a>"
      ]
    },
    {
      "cell_type": "markdown",
      "metadata": {
        "id": "xwi9mzFPPDv7"
      },
      "source": [
        "# Identifying Entities in Healthcare Data"
      ]
    },
    {
      "cell_type": "markdown",
      "metadata": {
        "id": "3wwzoMzrUDtr"
      },
      "source": [
        "Importing the necessary libraries\n"
      ]
    },
    {
      "cell_type": "code",
      "metadata": {
        "id": "T4hxafMCE1nn",
        "colab": {
          "base_uri": "https://localhost:8080/"
        },
        "outputId": "183b2ff8-93a5-436a-e12a-4beb024846a8"
      },
      "source": [
        "!pip install pycrf\n",
        "!pip install sklearn-crfsuite\n",
        "\n",
        "import spacy\n",
        "import sklearn_crfsuite\n",
        "import pandas as pd\n",
        "from sklearn_crfsuite import metrics\n",
        "from collections import Counter\n",
        "model = spacy.load(\"en_core_web_sm\")"
      ],
      "execution_count": 4,
      "outputs": [
        {
          "output_type": "stream",
          "name": "stdout",
          "text": [
            "Requirement already satisfied: pycrf in /usr/local/lib/python3.7/dist-packages (0.0.1)\n",
            "Requirement already satisfied: sklearn-crfsuite in /usr/local/lib/python3.7/dist-packages (0.3.6)\n",
            "Requirement already satisfied: tabulate in /usr/local/lib/python3.7/dist-packages (from sklearn-crfsuite) (0.8.9)\n",
            "Requirement already satisfied: tqdm>=2.0 in /usr/local/lib/python3.7/dist-packages (from sklearn-crfsuite) (4.62.3)\n",
            "Requirement already satisfied: six in /usr/local/lib/python3.7/dist-packages (from sklearn-crfsuite) (1.15.0)\n",
            "Requirement already satisfied: python-crfsuite>=0.8.3 in /usr/local/lib/python3.7/dist-packages (from sklearn-crfsuite) (0.9.7)\n"
          ]
        }
      ]
    },
    {
      "cell_type": "markdown",
      "metadata": {
        "id": "wipN6EXUBS3j"
      },
      "source": [
        "### DATA PREPROCESSING"
      ]
    },
    {
      "cell_type": "markdown",
      "metadata": {
        "id": "e-Bq4Trl_-pF"
      },
      "source": [
        "The train and test sentence files contain one word per line. The same holds true for the label files. Two sentences/label sequences are separated by an empty line. Prepocessing needs to be performed to recover the sentences and their label sequences."
      ]
    },
    {
      "cell_type": "markdown",
      "metadata": {
        "id": "tlxgIiVZpGTA"
      },
      "source": [
        "Define a function that reads the file and splits the data when a blank line occurs (\"\\n\\n\"). Replace every newline character in every element of the list obtained with space to obtain a list of sentences/label sequences"
      ]
    },
    {
      "cell_type": "code",
      "metadata": {
        "id": "bz6czVx9R6WJ"
      },
      "source": [
        "def data_preproc(path) :\n",
        "  with open(path) as file_hd :\n",
        "    list_sent = file_hd.read().split(\"\\n\\n\")\n",
        "  sentences = [sent.replace(\"\\n\", \" \") for sent in list_sent]\n",
        "  return sentences"
      ],
      "execution_count": 5,
      "outputs": []
    },
    {
      "cell_type": "code",
      "metadata": {
        "id": "TE31q8yxVdU-"
      },
      "source": [
        "train_sentences = data_preproc(\"/content/train_sent\")\n",
        "train_labels = data_preproc(\"/content/train_label\")\n",
        "test_sentences = data_preproc(\"/content/test_sent\")\n",
        "test_labels = data_preproc(\"/content/test_label\")"
      ],
      "execution_count": 6,
      "outputs": []
    },
    {
      "cell_type": "markdown",
      "metadata": {
        "id": "EbDpTEWpB3qw"
      },
      "source": [
        "Printing the fisrt five train and test sentences/label sequences"
      ]
    },
    {
      "cell_type": "code",
      "metadata": {
        "id": "k4gdPBHwLdNX",
        "colab": {
          "base_uri": "https://localhost:8080/"
        },
        "outputId": "727dd839-2387-41e9-8169-6a7ce4ef2598"
      },
      "source": [
        "print(train_sentences[:5])\n",
        "print(train_labels[:5])\n",
        "print(test_sentences[:5])\n",
        "print(test_labels[:5])"
      ],
      "execution_count": 7,
      "outputs": [
        {
          "output_type": "stream",
          "name": "stdout",
          "text": [
            "['All live births > or = 23 weeks at the University of Vermont in 1995 ( n = 2395 ) were retrospectively analyzed for delivery route , indication for cesarean , gestational age , parity , and practice group ( to reflect risk status )', 'The total cesarean rate was 14.4 % ( 344 of 2395 ) , and the primary rate was 11.4 % ( 244 of 2144 )', 'Abnormal presentation was the most common indication ( 25.6 % , 88 of 344 )', \"The `` corrected '' cesarean rate ( maternal-fetal medicine and transported patients excluded ) was 12.4 % ( 273 of 2194 ) , and the `` corrected '' primary rate was 9.6 % ( 190 of 1975 )\", \"Arrest of dilation was the most common indication in both `` corrected '' subgroups ( 23.4 and 24.6 % , respectively )\"]\n",
            "['O O O O O O O O O O O O O O O O O O O O O O O O O O O O O O O O O O O O O O O O O O O O O', 'O O O O O O O O O O O O O O O O O O O O O O O O O', 'O O O O O O O O O O O O O O O', 'O O O O O O O O O O O O O O O O O O O O O O O O O O O O O O O O O O O O O O', 'O O O O O O O O O O O O O O O O O O O O O O']\n",
            "['Furthermore , when all deliveries were analyzed , regardless of risk status but limited to gestational age > or = 36 weeks , the rates did not change ( 12.6 % , 280 of 2214 ; primary 9.2 % , 183 of 1994 )', 'As the ambient temperature increases , there is an increase in insensible fluid loss and the potential for dehydration', 'The daily high temperature ranged from 71 to 104 degrees F and AFI values ranged from 1.7 to 24.7 cm during the study period', 'There was a significant correlation between the 2- , 3- , and 4-day mean temperature and AFI , with the 4-day mean being the most significant ( r = 0.31 , p & # 60 ; 0.001 )', 'Fluctuations in ambient temperature are inversely correlated to changes in AFI']\n",
            "['O O O O O O O O O O O O O O O O O O O O O O O O O O O O O O O O O O O O O O O O O O O O', 'O O O O O O O O O O O O O O O O O O O', 'O O O O O O O O O O O O O O O O O O O O O O O O', 'O O O O O O O O O O O O O O O O O O O O O O O O O O O O O O O O O O O O O O', 'O O O O O O O O O O O']\n"
          ]
        }
      ]
    },
    {
      "cell_type": "markdown",
      "metadata": {
        "id": "urCxIOBTMBwG"
      },
      "source": [
        "Count of the number of sentences in the processed train and test dataset "
      ]
    },
    {
      "cell_type": "code",
      "metadata": {
        "id": "zwa18H_IMFXV",
        "colab": {
          "base_uri": "https://localhost:8080/"
        },
        "outputId": "9c6c0415-c9df-4eb0-fb16-5262c0a45e7c"
      },
      "source": [
        "print(len(train_sentences))\n",
        "print(len(test_sentences))"
      ],
      "execution_count": 8,
      "outputs": [
        {
          "output_type": "stream",
          "name": "stdout",
          "text": [
            "2600\n",
            "1057\n"
          ]
        }
      ]
    },
    {
      "cell_type": "markdown",
      "metadata": {
        "id": "Jjg2DK7hLcO_"
      },
      "source": [
        "Count of the number of lines of labels in the processed train and test dataset."
      ]
    },
    {
      "cell_type": "code",
      "metadata": {
        "id": "unXoD2bWLPZD",
        "colab": {
          "base_uri": "https://localhost:8080/"
        },
        "outputId": "157dd003-d184-440b-f75a-9e493c65f9fe"
      },
      "source": [
        "print(len(train_labels))\n",
        "print(len(test_labels))"
      ],
      "execution_count": 9,
      "outputs": [
        {
          "output_type": "stream",
          "name": "stdout",
          "text": [
            "2600\n",
            "1057\n"
          ]
        }
      ]
    },
    {
      "cell_type": "markdown",
      "metadata": {
        "id": "r9Hy2tECbd9a"
      },
      "source": [
        "##Concept Identification\n",
        "Exploring the various concepts present in the dataset through POS tagging\n",
        "\n"
      ]
    },
    {
      "cell_type": "markdown",
      "metadata": {
        "id": "3YGpfOK7Mk3X"
      },
      "source": [
        "Extract those tokens which have NOUN or PROPN as their PoS tag and find their frequency"
      ]
    },
    {
      "cell_type": "code",
      "metadata": {
        "id": "7w8nJSPlZqjw"
      },
      "source": [
        "noun_propn = []\n",
        "for sent in (train_sentences + test_sentences) :\n",
        "  doc = model(sent.lower())\n",
        "  for token in doc :\n",
        "    if token.pos_ in [\"NOUN\", \"PROPN\"] :\n",
        "      noun_propn.append(token.text)\n",
        "freq_dist = Counter(noun_propn)"
      ],
      "execution_count": 10,
      "outputs": []
    },
    {
      "cell_type": "markdown",
      "metadata": {
        "id": "-SQG8wRxMo6A"
      },
      "source": [
        "### Print the top 25 most common tokens with NOUN or PROPN PoS tags"
      ]
    },
    {
      "cell_type": "code",
      "metadata": {
        "colab": {
          "base_uri": "https://localhost:8080/"
        },
        "id": "uCu1FAqb9yDc",
        "outputId": "ec9eb946-3bb2-40ea-9ab7-75fb39409d10"
      },
      "source": [
        "print(freq_dist.most_common(25))"
      ],
      "execution_count": 11,
      "outputs": [
        {
          "output_type": "stream",
          "name": "stdout",
          "text": [
            "[('patients', 507), ('treatment', 304), ('%', 247), ('cancer', 211), ('therapy', 177), ('study', 174), ('disease', 149), ('cell', 142), ('lung', 118), ('results', 117), ('group', 111), ('effects', 99), ('gene', 91), ('chemotherapy', 91), ('use', 89), ('effect', 82), ('women', 81), ('analysis', 76), ('risk', 74), ('surgery', 73), ('cases', 72), ('p', 72), ('rate', 68), ('survival', 67), ('response', 66)]\n"
          ]
        }
      ]
    },
    {
      "cell_type": "markdown",
      "metadata": {
        "id": "bnfAlKgA5fd4"
      },
      "source": [
        "## Defining features for CRF\n",
        "\n",
        "\n",
        "\n"
      ]
    },
    {
      "cell_type": "markdown",
      "metadata": {
        "id": "42x7dVyfqexx"
      },
      "source": [
        "Following feature functions are used to compute the features of each word after converting the word to lower case\n",
        "\n",
        "\n",
        "*   f1 : the word itself\n",
        "*   f2 : POS_tag of the word\n",
        "*   f3 : last three characters of the word\n",
        "*   f4 : last two characters of the word\n",
        "*   f5 : length of the word\n",
        "*   f6 : the previous word\n",
        "*   f7 : POS_tag of the previous word\n",
        "*   f8 : length of the previous word\n",
        "*   f9 : if word is at the beginning of the sentence, add BEG\n",
        "*   f10 :if word is at the end of the sentence, add END\n",
        "\n",
        "\n",
        "\n",
        "\n",
        "\n",
        "\n",
        "\n",
        "\n",
        "\n"
      ]
    },
    {
      "cell_type": "code",
      "metadata": {
        "id": "aS6P1Gog3JMf"
      },
      "source": [
        "# Let's define the features to get the feature value for one word.\n",
        "def getFeaturesForOneWord(sentence, pos, tokens) :\n",
        "\n",
        "  word = sentence[pos].lower()\n",
        "  word_pos_tag = tokens[pos].pos_\n",
        "  features = [\"word = \" + word,\n",
        "              \"word_POS_tag = \" + word_pos_tag,\n",
        "              \"word[-3:] = \" + word[-3:],\n",
        "              \"word[-2:] = \" + word[-2:],\n",
        "              \"word_length = %s\" % len(word)        \n",
        "  ]\n",
        "\n",
        "  if pos > 0 :\n",
        "\n",
        "    prev_word = sentence[pos-1]\n",
        "    prev_word_pos_tag = tokens[pos-1].pos_\n",
        "    features.append(\"prev_word = \" + prev_word)\n",
        "    features.append(\"prev_word_POS_tag = \" + prev_word_pos_tag)\n",
        "    features.append(\"prev_word_length = %s\" % len(prev_word))\n",
        "\n",
        "  else :\n",
        "    features.append(\"BEG\")\n",
        "  \n",
        "  if pos == len(sentence) - 1 :\n",
        "    features.append(\"END\")\n",
        "  \n",
        "  return features"
      ],
      "execution_count": 12,
      "outputs": []
    },
    {
      "cell_type": "markdown",
      "metadata": {
        "id": "haBEOsZGKhb9"
      },
      "source": [
        "## Getting the features"
      ]
    },
    {
      "cell_type": "markdown",
      "metadata": {
        "id": "Fwb8YUdlNcG1"
      },
      "source": [
        " Function that extracts the features of a sentence"
      ]
    },
    {
      "cell_type": "code",
      "metadata": {
        "id": "emBIm5uK7vtK"
      },
      "source": [
        "# Write a code to get features for a sentence.\n",
        "def getFeaturesForOneSentence(sentence) :\n",
        "  tokens = model(sentence)\n",
        "  sentence = sentence.split()\n",
        "  return [getFeaturesForOneWord(sentence, pos, tokens) for pos in range(len(sentence))]"
      ],
      "execution_count": 13,
      "outputs": []
    },
    {
      "cell_type": "markdown",
      "metadata": {
        "id": "A7fs-B8CNein"
      },
      "source": [
        "Function that extracts the labels of a sentence"
      ]
    },
    {
      "cell_type": "code",
      "metadata": {
        "id": "tiA-A_ws8I8-"
      },
      "source": [
        "# Write a code to get the labels for a sentence.\n",
        "def getLabelsForOneSentence(labels) :\n",
        "  labels = labels.split()\n",
        "  return labels"
      ],
      "execution_count": 14,
      "outputs": []
    },
    {
      "cell_type": "markdown",
      "metadata": {
        "id": "QG6hYY6rNjS8"
      },
      "source": [
        "## Defining the input and target variables for the CRF model\n"
      ]
    },
    {
      "cell_type": "code",
      "metadata": {
        "id": "8Nuz-MjW8LWm"
      },
      "source": [
        "X_train = [getFeaturesForOneSentence(sentence) for sentence in train_sentences]\n",
        "X_test = [getFeaturesForOneSentence(sentence) for sentence in test_sentences]"
      ],
      "execution_count": 15,
      "outputs": []
    },
    {
      "cell_type": "code",
      "metadata": {
        "id": "HrzLkWs0Nvx4"
      },
      "source": [
        "Y_train = [getLabelsForOneSentence(labels) for labels in train_labels]\n",
        "Y_test = [getLabelsForOneSentence(labels) for labels in test_labels]"
      ],
      "execution_count": 16,
      "outputs": []
    },
    {
      "cell_type": "markdown",
      "metadata": {
        "id": "YrIAz8gqN_Js"
      },
      "source": [
        "## Building the CRF Model"
      ]
    },
    {
      "cell_type": "code",
      "metadata": {
        "id": "k2oGSiqQ8Otd",
        "colab": {
          "base_uri": "https://localhost:8080/"
        },
        "outputId": "85dad7f9-3b1a-4568-cb56-5cf3e1842a42"
      },
      "source": [
        "# Build the CRF model.\n",
        "crf_model = sklearn_crfsuite.CRF(max_iterations = 100)\n",
        "crf_model.fit(X_train, Y_train)"
      ],
      "execution_count": 17,
      "outputs": [
        {
          "output_type": "stream",
          "name": "stderr",
          "text": [
            "/usr/local/lib/python3.7/dist-packages/sklearn/base.py:197: FutureWarning: From version 0.24, get_params will raise an AttributeError if a parameter cannot be retrieved as an instance attribute. Previously it would return None.\n",
            "  FutureWarning)\n"
          ]
        },
        {
          "output_type": "execute_result",
          "data": {
            "text/plain": [
              "CRF(algorithm=None, all_possible_states=None, all_possible_transitions=None,\n",
              "    averaging=None, c=None, c1=None, c2=None, calibration_candidates=None,\n",
              "    calibration_eta=None, calibration_max_trials=None, calibration_rate=None,\n",
              "    calibration_samples=None, delta=None, epsilon=None, error_sensitive=None,\n",
              "    gamma=None, keep_tempfiles=None, linesearch=None, max_iterations=100,\n",
              "    max_linesearch=None, min_freq=None, model_filename=None, num_memories=None,\n",
              "    pa_type=None, period=None, trainer_cls=None, variance=None, verbose=False)"
            ]
          },
          "metadata": {},
          "execution_count": 17
        }
      ]
    },
    {
      "cell_type": "markdown",
      "metadata": {
        "id": "5VPFrPZJOJMq"
      },
      "source": [
        "## Evaluation"
      ]
    },
    {
      "cell_type": "markdown",
      "metadata": {
        "id": "84gUagMZOP9B"
      },
      "source": [
        "Predicting the labels of each of the tokens in each sentence of the test dataset."
      ]
    },
    {
      "cell_type": "code",
      "metadata": {
        "id": "D_sDJs1n8-sI"
      },
      "source": [
        "Y_pred = crf_model.predict(X_test)"
      ],
      "execution_count": 18,
      "outputs": []
    },
    {
      "cell_type": "markdown",
      "metadata": {
        "id": "qIneYrqZOUiJ"
      },
      "source": [
        "### Calculate the f1 score using the actual labels and the predicted labels of the test dataset."
      ]
    },
    {
      "cell_type": "code",
      "metadata": {
        "id": "Lr_JNIgrOTcr",
        "colab": {
          "base_uri": "https://localhost:8080/"
        },
        "outputId": "e22cc060-8588-4136-a1a1-9d2a48935331"
      },
      "source": [
        "metrics.flat_f1_score(Y_test, Y_pred, average = \"weighted\")"
      ],
      "execution_count": 19,
      "outputs": [
        {
          "output_type": "execute_result",
          "data": {
            "text/plain": [
              "0.9146202176451267"
            ]
          },
          "metadata": {},
          "execution_count": 19
        }
      ]
    },
    {
      "cell_type": "markdown",
      "metadata": {
        "id": "ORDyDw6sYHf5"
      },
      "source": [
        "##Identifying Diseases and Treatments\n",
        "\n",
        "We'll now use the CRF model's prediction to prepare a record of diseases identified in the corpus and treatments used for the diseases.\n",
        "\n"
      ]
    },
    {
      "cell_type": "code",
      "metadata": {
        "id": "6reMqClg97Ry"
      },
      "source": [
        "def D_T_identification(pos) :\n",
        "  label_seq = Y_pred[pos]\n",
        "  disease_idx = []\n",
        "  treatment_idx = []\n",
        "  for idx, label in enumerate(label_seq) :\n",
        "    if label == \"D\" :\n",
        "      disease_idx.append(idx)\n",
        "\n",
        "    if label == \"T\" :\n",
        "      treatment_idx.append(idx)\n",
        "  \n",
        "  return disease_idx, treatment_idx"
      ],
      "execution_count": 20,
      "outputs": []
    },
    {
      "cell_type": "code",
      "metadata": {
        "colab": {
          "base_uri": "https://localhost:8080/",
          "height": 422
        },
        "id": "giwnjQ184BHT",
        "outputId": "54b6a54e-3d23-4d0e-9bc9-06b11587c92e"
      },
      "source": [
        "# records = {}\n",
        "diseases = []\n",
        "treatments = []\n",
        "records = pd.DataFrame(columns = [\"Disease\", \"Treatment\"])\n",
        "for id, sent in enumerate(test_sentences) :\n",
        "  sent = sent.split()\n",
        "  disease_idx, treatments_idx = D_T_identification(id)\n",
        "  if len(disease_idx) > 0 and len(treatments_idx) > 0 :\n",
        "    # records[\" \".join([sent[idx] for idx in disease_idx])] = \" \".join([sent[idx] for idx in treatments_idx])\n",
        "    diseases.append(\" \".join([sent[idx] for id, idx in enumerate(disease_idx) if id == 0 or idx == disease_idx[id-1] + 1]))\n",
        "    treatments.append(\" \".join([sent[idx] for idx in treatments_idx]))\n",
        "records[\"Disease\"] = diseases\n",
        "records[\"Treatment\"] = treatments\n",
        "records[\"Treatment\"] = records[\"Treatment\"].apply(lambda x : x.replace(\"and\", \",\").replace(\", ,\", \",\"))\n",
        "records = records.groupby(\"Disease\")[\"Treatment\"].apply(\", \".join).reset_index()\n",
        "records"
      ],
      "execution_count": 21,
      "outputs": [
        {
          "output_type": "execute_result",
          "data": {
            "text/html": [
              "<div>\n",
              "<style scoped>\n",
              "    .dataframe tbody tr th:only-of-type {\n",
              "        vertical-align: middle;\n",
              "    }\n",
              "\n",
              "    .dataframe tbody tr th {\n",
              "        vertical-align: top;\n",
              "    }\n",
              "\n",
              "    .dataframe thead th {\n",
              "        text-align: right;\n",
              "    }\n",
              "</style>\n",
              "<table border=\"1\" class=\"dataframe\">\n",
              "  <thead>\n",
              "    <tr style=\"text-align: right;\">\n",
              "      <th></th>\n",
              "      <th>Disease</th>\n",
              "      <th>Treatment</th>\n",
              "    </tr>\n",
              "  </thead>\n",
              "  <tbody>\n",
              "    <tr>\n",
              "      <th>0</th>\n",
              "      <td>B16 melanoma</td>\n",
              "      <td>adenosine triphosphate buthionine sulfoximine</td>\n",
              "    </tr>\n",
              "    <tr>\n",
              "      <th>1</th>\n",
              "      <td>Barrett 's esophagus</td>\n",
              "      <td>Acid suppression therapy</td>\n",
              "    </tr>\n",
              "    <tr>\n",
              "      <th>2</th>\n",
              "      <td>Eisenmenger 's syndrome</td>\n",
              "      <td>laparoscopic cholecystectomy</td>\n",
              "    </tr>\n",
              "    <tr>\n",
              "      <th>3</th>\n",
              "      <td>Parkinson 's disease</td>\n",
              "      <td>Microelectrode-guided posteroventral pallidotomy</td>\n",
              "    </tr>\n",
              "    <tr>\n",
              "      <th>4</th>\n",
              "      <td>abdominal pain</td>\n",
              "      <td>thoracic paravertebral block ( tpvb )</td>\n",
              "    </tr>\n",
              "    <tr>\n",
              "      <th>...</th>\n",
              "      <td>...</td>\n",
              "      <td>...</td>\n",
              "    </tr>\n",
              "    <tr>\n",
              "      <th>116</th>\n",
              "      <td>tumors</td>\n",
              "      <td>Immunotherapy</td>\n",
              "    </tr>\n",
              "    <tr>\n",
              "      <th>117</th>\n",
              "      <td>unresectable stage iii nsclc</td>\n",
              "      <td>sequential chemotherapy</td>\n",
              "    </tr>\n",
              "    <tr>\n",
              "      <th>118</th>\n",
              "      <td>unstable angina</td>\n",
              "      <td>roxithromycin</td>\n",
              "    </tr>\n",
              "    <tr>\n",
              "      <th>119</th>\n",
              "      <td>untreated small cell lung cancer ( sclc ) sclc</td>\n",
              "      <td>chemotherapy</td>\n",
              "    </tr>\n",
              "    <tr>\n",
              "      <th>120</th>\n",
              "      <td>ventricular tachycardia</td>\n",
              "      <td>surgical therapy</td>\n",
              "    </tr>\n",
              "  </tbody>\n",
              "</table>\n",
              "<p>121 rows × 2 columns</p>\n",
              "</div>"
            ],
            "text/plain": [
              "                                            Disease                                         Treatment\n",
              "0                                      B16 melanoma     adenosine triphosphate buthionine sulfoximine\n",
              "1                              Barrett 's esophagus                          Acid suppression therapy\n",
              "2                           Eisenmenger 's syndrome                      laparoscopic cholecystectomy\n",
              "3                              Parkinson 's disease  Microelectrode-guided posteroventral pallidotomy\n",
              "4                                    abdominal pain             thoracic paravertebral block ( tpvb )\n",
              "..                                              ...                                               ...\n",
              "116                                          tumors                                     Immunotherapy\n",
              "117                    unresectable stage iii nsclc                           sequential chemotherapy\n",
              "118                                 unstable angina                                     roxithromycin\n",
              "119  untreated small cell lung cancer ( sclc ) sclc                                      chemotherapy\n",
              "120                         ventricular tachycardia                                  surgical therapy\n",
              "\n",
              "[121 rows x 2 columns]"
            ]
          },
          "metadata": {},
          "execution_count": 21
        }
      ]
    },
    {
      "cell_type": "code",
      "metadata": {
        "id": "AmKnbXEk19CX"
      },
      "source": [
        ""
      ],
      "execution_count": 21,
      "outputs": []
    }
  ]
}